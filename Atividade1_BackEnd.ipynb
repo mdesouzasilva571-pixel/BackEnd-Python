{
  "cells": [
    {
      "cell_type": "markdown",
      "metadata": {
        "id": "view-in-github",
        "colab_type": "text"
      },
      "source": [
        "<a href=\"https://colab.research.google.com/github/mdesouzasilva571-pixel/BackEnd-Python/blob/main/Atividade1_BackEnd.ipynb\" target=\"_parent\"><img src=\"https://colab.research.google.com/assets/colab-badge.svg\" alt=\"Open In Colab\"/></a>"
      ]
    },
    {
      "cell_type": "code",
      "execution_count": null,
      "metadata": {
        "id": "MSKkpdUOqwEe"
      },
      "outputs": [],
      "source": []
    },
    {
      "cell_type": "code",
      "execution_count": null,
      "metadata": {
        "id": "eo1uLcCcsVDc"
      },
      "outputs": [],
      "source": [
        "def verificar_palavra_comeca_com_a(palavra):\n",
        "  \"\"\"Verifica se uma string começa com 'a'.\"\"\"\n",
        "  # Remove espaços e converte para minúsculas para uma comparação case-insensitive\n",
        "  palavra = palavra.replace(\" \", \"\").lower()\n",
        "  return palavra.startswith(\"a\")\n",
        "\n",
        "def verificar_palindromo(palavra):\n",
        "  \"\"\"Verifica se uma string é um palíndromo.\"\"\"\n",
        "  # Remove espaços e converte para minúsculas para uma comparação case-insensitive\n",
        "  palavra = palavra.replace(\" \", \"\").lower()\n",
        "  return palavra == palavra[::-1]\n",
        "\n",
        "def verificar_comprimento(palavra):\n",
        "  \"\"\"Verifica se o comprimento da palavra é maior que 7.\"\"\"\n",
        "  return len(palavra) > 7\n",
        "\n",
        "palavras = [\"ana\", \"arara\", \"abacate\", \"azul\"]\n",
        "\n",
        "# Verifica cada palavra na lista e imprime o resultado\n",
        "for palavra in palavras:\n",
        "  if verificar_palindromo(palavra):\n",
        "    print(f\"'{palavra}' é um palíndromo.\")\n",
        "  else:\n",
        "    print(f\"'{palavra}' não é um palíndromo.\")\n",
        "\n",
        "  if verificar_comprimento(palavra):\n",
        "    print(f\"'{palavra}' é longa.\")\n",
        "  else:\n",
        "    print(f\"'{palavra}' é comum.\")\n",
        "\n",
        "  if verificar_palavra_comeca_com_a(palavra):\n",
        "    print(f\"'{palavra}' começa com 'a'.\")\n",
        "  else:\n",
        "    print(f\"'{palavra}' não começa com 'a'.\")\n",
        "  print(\"-\" * 20) # Separador para melhor legibilidade\n",
        "\n",
        "\n",
        "# Exemplo de como obter entrada do usuário e verificar se é um palíndromo, começa com a, é longa\n",
        "entrada_usuario = input(\"Digite uma palavra para verificar: \")\n",
        "\n",
        "if verificar_palindromo(entrada_usuario):\n",
        "    print(f\"'{entrada_usuario}' é um palíndromo.\")\n",
        "else:\n",
        "    print(f\"'{entrada_usuario}' não é um palíndromo.\")\n",
        "\n",
        "if verificar_palavra_comeca_com_a(entrada_usuario):\n",
        "    print(f\"'{entrada_usuario}' começa com 'a'.\")\n",
        "else:\n",
        "    print(f\"'{entrada_usuario}' não começa com 'a'.\")\n",
        "\n",
        "if verificar_comprimento(entrada_usuario):\n",
        "    print(f\"'{entrada_usuario}' é longa.\")\n",
        "else:\n",
        "    print(f\"'{entrada_usuario}' é comum.\")"
      ]
    }
  ],
  "metadata": {
    "colab": {
      "provenance": [],
      "authorship_tag": "ABX9TyNiCq7BL5505hKnVATzIuSF",
      "include_colab_link": true
    },
    "kernelspec": {
      "display_name": "Python 3",
      "name": "python3"
    },
    "language_info": {
      "name": "python"
    }
  },
  "nbformat": 4,
  "nbformat_minor": 0
}