{
  "cells": [
    {
      "cell_type": "markdown",
      "metadata": {
        "id": "view-in-github",
        "colab_type": "text"
      },
      "source": [
        "<a href=\"https://colab.research.google.com/github/mdesouzasilva571-pixel/BackEnd-Python/blob/main/Atividade1_BackEnd.ipynb\" target=\"_parent\"><img src=\"https://colab.research.google.com/assets/colab-badge.svg\" alt=\"Open In Colab\"/></a>"
      ]
    },
    {
      "cell_type": "code",
      "execution_count": 8,
      "metadata": {
        "id": "MSKkpdUOqwEe"
      },
      "outputs": [],
      "source": []
    },
    {
      "cell_type": "code",
      "execution_count": 9,
      "metadata": {
        "colab": {
          "base_uri": "https://localhost:8080/",
          "height": 634
        },
        "id": "eo1uLcCcsVDc",
        "outputId": "36d172a0-9879-4745-9040-059e5f01402f"
      },
      "outputs": [
        {
          "output_type": "stream",
          "name": "stdout",
          "text": [
            "'ana' é um palíndromo.\n",
            "'ana' é comum.\n",
            "'ana' começa com 'a'.\n",
            "--------------------\n",
            "'arara' é um palíndromo.\n",
            "'arara' é comum.\n",
            "'arara' começa com 'a'.\n",
            "--------------------\n",
            "'abacate' não é um palíndromo.\n",
            "'abacate' é comum.\n",
            "'abacate' começa com 'a'.\n",
            "--------------------\n",
            "'azul' não é um palíndromo.\n",
            "'azul' é comum.\n",
            "'azul' começa com 'a'.\n",
            "--------------------\n"
          ]
        },
        {
          "output_type": "error",
          "ename": "KeyboardInterrupt",
          "evalue": "Interrupted by user",
          "traceback": [
            "\u001b[0;31m---------------------------------------------------------------------------\u001b[0m",
            "\u001b[0;31mKeyboardInterrupt\u001b[0m                         Traceback (most recent call last)",
            "\u001b[0;32m/tmp/ipython-input-1677564919.py\u001b[0m in \u001b[0;36m<cell line: 0>\u001b[0;34m()\u001b[0m\n\u001b[1;32m     37\u001b[0m \u001b[0;34m\u001b[0m\u001b[0m\n\u001b[1;32m     38\u001b[0m \u001b[0;31m# Exemplo de como obter entrada do usuário e verificar se é um palíndromo, começa com a, é longa\u001b[0m\u001b[0;34m\u001b[0m\u001b[0;34m\u001b[0m\u001b[0m\n\u001b[0;32m---> 39\u001b[0;31m \u001b[0mentrada_usuario\u001b[0m \u001b[0;34m=\u001b[0m \u001b[0minput\u001b[0m\u001b[0;34m(\u001b[0m\u001b[0;34m\"Digite uma palavra para verificar: \"\u001b[0m\u001b[0;34m)\u001b[0m\u001b[0;34m\u001b[0m\u001b[0;34m\u001b[0m\u001b[0m\n\u001b[0m\u001b[1;32m     40\u001b[0m \u001b[0;34m\u001b[0m\u001b[0m\n\u001b[1;32m     41\u001b[0m \u001b[0;32mif\u001b[0m \u001b[0mverificar_palindromo\u001b[0m\u001b[0;34m(\u001b[0m\u001b[0mentrada_usuario\u001b[0m\u001b[0;34m)\u001b[0m\u001b[0;34m:\u001b[0m\u001b[0;34m\u001b[0m\u001b[0;34m\u001b[0m\u001b[0m\n",
            "\u001b[0;32m/usr/local/lib/python3.12/dist-packages/ipykernel/kernelbase.py\u001b[0m in \u001b[0;36mraw_input\u001b[0;34m(self, prompt)\u001b[0m\n\u001b[1;32m   1175\u001b[0m                 \u001b[0;34m\"raw_input was called, but this frontend does not support input requests.\"\u001b[0m\u001b[0;34m\u001b[0m\u001b[0;34m\u001b[0m\u001b[0m\n\u001b[1;32m   1176\u001b[0m             )\n\u001b[0;32m-> 1177\u001b[0;31m         return self._input_request(\n\u001b[0m\u001b[1;32m   1178\u001b[0m             \u001b[0mstr\u001b[0m\u001b[0;34m(\u001b[0m\u001b[0mprompt\u001b[0m\u001b[0;34m)\u001b[0m\u001b[0;34m,\u001b[0m\u001b[0;34m\u001b[0m\u001b[0;34m\u001b[0m\u001b[0m\n\u001b[1;32m   1179\u001b[0m             \u001b[0mself\u001b[0m\u001b[0;34m.\u001b[0m\u001b[0m_parent_ident\u001b[0m\u001b[0;34m[\u001b[0m\u001b[0;34m\"shell\"\u001b[0m\u001b[0;34m]\u001b[0m\u001b[0;34m,\u001b[0m\u001b[0;34m\u001b[0m\u001b[0;34m\u001b[0m\u001b[0m\n",
            "\u001b[0;32m/usr/local/lib/python3.12/dist-packages/ipykernel/kernelbase.py\u001b[0m in \u001b[0;36m_input_request\u001b[0;34m(self, prompt, ident, parent, password)\u001b[0m\n\u001b[1;32m   1217\u001b[0m             \u001b[0;32mexcept\u001b[0m \u001b[0mKeyboardInterrupt\u001b[0m\u001b[0;34m:\u001b[0m\u001b[0;34m\u001b[0m\u001b[0;34m\u001b[0m\u001b[0m\n\u001b[1;32m   1218\u001b[0m                 \u001b[0;31m# re-raise KeyboardInterrupt, to truncate traceback\u001b[0m\u001b[0;34m\u001b[0m\u001b[0;34m\u001b[0m\u001b[0m\n\u001b[0;32m-> 1219\u001b[0;31m                 \u001b[0;32mraise\u001b[0m \u001b[0mKeyboardInterrupt\u001b[0m\u001b[0;34m(\u001b[0m\u001b[0;34m\"Interrupted by user\"\u001b[0m\u001b[0;34m)\u001b[0m \u001b[0;32mfrom\u001b[0m \u001b[0;32mNone\u001b[0m\u001b[0;34m\u001b[0m\u001b[0;34m\u001b[0m\u001b[0m\n\u001b[0m\u001b[1;32m   1220\u001b[0m             \u001b[0;32mexcept\u001b[0m \u001b[0mException\u001b[0m\u001b[0;34m:\u001b[0m\u001b[0;34m\u001b[0m\u001b[0;34m\u001b[0m\u001b[0m\n\u001b[1;32m   1221\u001b[0m                 \u001b[0mself\u001b[0m\u001b[0;34m.\u001b[0m\u001b[0mlog\u001b[0m\u001b[0;34m.\u001b[0m\u001b[0mwarning\u001b[0m\u001b[0;34m(\u001b[0m\u001b[0;34m\"Invalid Message:\"\u001b[0m\u001b[0;34m,\u001b[0m \u001b[0mexc_info\u001b[0m\u001b[0;34m=\u001b[0m\u001b[0;32mTrue\u001b[0m\u001b[0;34m)\u001b[0m\u001b[0;34m\u001b[0m\u001b[0;34m\u001b[0m\u001b[0m\n",
            "\u001b[0;31mKeyboardInterrupt\u001b[0m: Interrupted by user"
          ]
        }
      ],
      "source": [
        "def verificar_palavra_comeca_com_a(palavra):\n",
        "  \"\"\"Verifica se uma string começa com 'a'.\"\"\"\n",
        "  # Remove espaços e converte para minúsculas para uma comparação case-insensitive\n",
        "  palavra = palavra.replace(\" \", \"\").lower()\n",
        "  return palavra.startswith(\"a\")\n",
        "\n",
        "def verificar_palindromo(palavra):\n",
        "  \"\"\"Verifica se uma string é um palíndromo.\"\"\"\n",
        "  # Remove espaços e converte para minúsculas para uma comparação case-insensitive\n",
        "  palavra = palavra.replace(\" \", \"\").lower()\n",
        "  return palavra == palavra[::-1]\n",
        "\n",
        "def verificar_comprimento(palavra):\n",
        "  \"\"\"Verifica se o comprimento da palavra é maior que 7.\"\"\"\n",
        "  return len(palavra) > 7\n",
        "\n",
        "palavras = [\"ana\", \"arara\", \"abacate\", \"azul\"]\n",
        "\n",
        "# Verifica cada palavra na lista e imprime o resultado\n",
        "for palavra in palavras:\n",
        "  if verificar_palindromo(palavra):\n",
        "    print(f\"'{palavra}' é um palíndromo.\")\n",
        "  else:\n",
        "    print(f\"'{palavra}' não é um palíndromo.\")\n",
        "\n",
        "  if verificar_comprimento(palavra):\n",
        "    print(f\"'{palavra}' é longa.\")\n",
        "  else:\n",
        "    print(f\"'{palavra}' é comum.\")\n",
        "\n",
        "  if verificar_palavra_comeca_com_a(palavra):\n",
        "    print(f\"'{palavra}' começa com 'a'.\")\n",
        "  else:\n",
        "    print(f\"'{palavra}' não começa com 'a'.\")\n",
        "  print(\"-\" * 20) # Separador para melhor legibilidade\n",
        "\n",
        "\n",
        "# Exemplo de como obter entrada do usuário e verificar se é um palíndromo, começa com a, é longa\n",
        "entrada_usuario = input(\"Digite uma palavra para verificar: \")\n",
        "\n",
        "if verificar_palindromo(entrada_usuario):\n",
        "    print(f\"'{entrada_usuario}' é um palíndromo.\")\n",
        "else:\n",
        "    print(f\"'{entrada_usuario}' não é um palíndromo.\")\n",
        "\n",
        "if verificar_palavra_comeca_com_a(entrada_usuario):\n",
        "    print(f\"'{entrada_usuario}' começa com 'a'.\")\n",
        "else:\n",
        "    print(f\"'{entrada_usuario}' não começa com 'a'.\")\n",
        "\n",
        "if verificar_comprimento(entrada_usuario):\n",
        "    print(f\"'{entrada_usuario}' é longa.\")\n",
        "else:\n",
        "    print(f\"'{entrada_usuario}' é comum.\")"
      ]
    }
  ],
  "metadata": {
    "colab": {
      "provenance": [],
      "authorship_tag": "ABX9TyNiCq7BL5505hKnVATzIuSF",
      "include_colab_link": true
    },
    "kernelspec": {
      "display_name": "Python 3",
      "name": "python3"
    },
    "language_info": {
      "name": "python"
    }
  },
  "nbformat": 4,
  "nbformat_minor": 0
}